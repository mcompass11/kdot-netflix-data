{
 "cells": [
  {
   "cell_type": "code",
   "id": "initial_id",
   "metadata": {
    "collapsed": true,
    "ExecuteTime": {
     "end_time": "2025-07-30T14:04:10.766641Z",
     "start_time": "2025-07-30T14:04:05.375728Z"
    }
   },
   "source": [
    "import pandas as pd\n",
    "df = pd.read_csv('../data/netflix.csv')"
   ],
   "outputs": [],
   "execution_count": 1
  },
  {
   "metadata": {
    "ExecuteTime": {
     "end_time": "2025-07-30T14:04:10.800645Z",
     "start_time": "2025-07-30T14:04:10.782772Z"
    }
   },
   "cell_type": "code",
   "source": [
    "#Quick insight into the data loaded\n",
    "df.head()\n",
    "df.info()\n",
    "df.describe()"
   ],
   "id": "a9d230947eb1454",
   "outputs": [
    {
     "name": "stdout",
     "output_type": "stream",
     "text": [
      "<class 'pandas.core.frame.DataFrame'>\n",
      "RangeIndex: 8807 entries, 0 to 8806\n",
      "Data columns (total 12 columns):\n",
      " #   Column        Non-Null Count  Dtype \n",
      "---  ------        --------------  ----- \n",
      " 0   show_id       8807 non-null   object\n",
      " 1   type          8807 non-null   object\n",
      " 2   title         8807 non-null   object\n",
      " 3   director      6173 non-null   object\n",
      " 4   cast          7982 non-null   object\n",
      " 5   country       7976 non-null   object\n",
      " 6   date_added    8797 non-null   object\n",
      " 7   release_year  8807 non-null   int64 \n",
      " 8   rating        8803 non-null   object\n",
      " 9   duration      8804 non-null   object\n",
      " 10  listed_in     8807 non-null   object\n",
      " 11  description   8807 non-null   object\n",
      "dtypes: int64(1), object(11)\n",
      "memory usage: 825.8+ KB\n"
     ]
    },
    {
     "data": {
      "text/plain": [
       "       release_year\n",
       "count   8807.000000\n",
       "mean    2014.180198\n",
       "std        8.819312\n",
       "min     1925.000000\n",
       "25%     2013.000000\n",
       "50%     2017.000000\n",
       "75%     2019.000000\n",
       "max     2021.000000"
      ],
      "text/html": [
       "<div>\n",
       "<style scoped>\n",
       "    .dataframe tbody tr th:only-of-type {\n",
       "        vertical-align: middle;\n",
       "    }\n",
       "\n",
       "    .dataframe tbody tr th {\n",
       "        vertical-align: top;\n",
       "    }\n",
       "\n",
       "    .dataframe thead th {\n",
       "        text-align: right;\n",
       "    }\n",
       "</style>\n",
       "<table border=\"1\" class=\"dataframe\">\n",
       "  <thead>\n",
       "    <tr style=\"text-align: right;\">\n",
       "      <th></th>\n",
       "      <th>release_year</th>\n",
       "    </tr>\n",
       "  </thead>\n",
       "  <tbody>\n",
       "    <tr>\n",
       "      <th>count</th>\n",
       "      <td>8807.000000</td>\n",
       "    </tr>\n",
       "    <tr>\n",
       "      <th>mean</th>\n",
       "      <td>2014.180198</td>\n",
       "    </tr>\n",
       "    <tr>\n",
       "      <th>std</th>\n",
       "      <td>8.819312</td>\n",
       "    </tr>\n",
       "    <tr>\n",
       "      <th>min</th>\n",
       "      <td>1925.000000</td>\n",
       "    </tr>\n",
       "    <tr>\n",
       "      <th>25%</th>\n",
       "      <td>2013.000000</td>\n",
       "    </tr>\n",
       "    <tr>\n",
       "      <th>50%</th>\n",
       "      <td>2017.000000</td>\n",
       "    </tr>\n",
       "    <tr>\n",
       "      <th>75%</th>\n",
       "      <td>2019.000000</td>\n",
       "    </tr>\n",
       "    <tr>\n",
       "      <th>max</th>\n",
       "      <td>2021.000000</td>\n",
       "    </tr>\n",
       "  </tbody>\n",
       "</table>\n",
       "</div>"
      ]
     },
     "execution_count": 2,
     "metadata": {},
     "output_type": "execute_result"
    }
   ],
   "execution_count": 2
  },
  {
   "metadata": {
    "ExecuteTime": {
     "end_time": "2025-07-30T14:04:10.966881Z",
     "start_time": "2025-07-30T14:04:10.961647Z"
    }
   },
   "cell_type": "code",
   "source": [
    "#Seeing what are the messiest columns\n",
    "df.isnull().sum()"
   ],
   "id": "c8318c6bc66f3845",
   "outputs": [
    {
     "data": {
      "text/plain": [
       "show_id            0\n",
       "type               0\n",
       "title              0\n",
       "director        2634\n",
       "cast             825\n",
       "country          831\n",
       "date_added        10\n",
       "release_year       0\n",
       "rating             4\n",
       "duration           3\n",
       "listed_in          0\n",
       "description        0\n",
       "dtype: int64"
      ]
     },
     "execution_count": 3,
     "metadata": {},
     "output_type": "execute_result"
    }
   ],
   "execution_count": 3
  },
  {
   "metadata": {
    "ExecuteTime": {
     "end_time": "2025-07-30T14:04:11.004745Z",
     "start_time": "2025-07-30T14:04:10.997833Z"
    }
   },
   "cell_type": "code",
   "source": [
    "#Converting the dates to ISO format, disregarding the ones inputted differently\n",
    "df['date_added'] = pd.to_datetime(df['date_added'], errors='coerce')"
   ],
   "id": "7ab18217b4c3d197",
   "outputs": [],
   "execution_count": 4
  },
  {
   "metadata": {
    "ExecuteTime": {
     "end_time": "2025-07-30T14:04:11.174687Z",
     "start_time": "2025-07-30T14:04:11.171088Z"
    }
   },
   "cell_type": "code",
   "source": "df['date_added'].head()",
   "id": "448404cc99ac990c",
   "outputs": [
    {
     "data": {
      "text/plain": [
       "0   2021-09-25\n",
       "1   2021-09-24\n",
       "2   2021-09-24\n",
       "3   2021-09-24\n",
       "4   2021-09-24\n",
       "Name: date_added, dtype: datetime64[ns]"
      ]
     },
     "execution_count": 5,
     "metadata": {},
     "output_type": "execute_result"
    }
   ],
   "execution_count": 5
  },
  {
   "metadata": {
    "ExecuteTime": {
     "end_time": "2025-07-30T14:04:11.279225Z",
     "start_time": "2025-07-30T14:04:11.276525Z"
    }
   },
   "cell_type": "code",
   "source": [
    "#Retrieving the total of blank values\n",
    "df['date_added'].isna().sum()"
   ],
   "id": "1f5f647570d79557",
   "outputs": [
    {
     "data": {
      "text/plain": [
       "np.int64(98)"
      ]
     },
     "execution_count": 6,
     "metadata": {},
     "output_type": "execute_result"
    }
   ],
   "execution_count": 6
  },
  {
   "metadata": {
    "ExecuteTime": {
     "end_time": "2025-07-30T14:04:11.341142Z",
     "start_time": "2025-07-30T14:04:11.336863Z"
    }
   },
   "cell_type": "code",
   "source": [
    "#Dropping the rows where date_added is blank\n",
    "df = df[df['date_added'].notna()]"
   ],
   "id": "182743de3d1961d7",
   "outputs": [],
   "execution_count": 7
  },
  {
   "metadata": {
    "ExecuteTime": {
     "end_time": "2025-07-30T14:04:11.370556Z",
     "start_time": "2025-07-30T14:04:11.368259Z"
    }
   },
   "cell_type": "code",
   "source": [
    "#Checking row count\n",
    "print(df.shape)"
   ],
   "id": "8eee438449bbf185",
   "outputs": [
    {
     "name": "stdout",
     "output_type": "stream",
     "text": [
      "(8709, 12)\n"
     ]
    }
   ],
   "execution_count": 8
  },
  {
   "metadata": {
    "ExecuteTime": {
     "end_time": "2025-07-30T14:04:11.398299Z",
     "start_time": "2025-07-30T14:04:11.389529Z"
    }
   },
   "cell_type": "code",
   "source": [
    "#Sorting the dataframe by date_added from the newest down\n",
    "df.sort_values('date_added', ascending=False).head(10)"
   ],
   "id": "c37a68399afe3baf",
   "outputs": [
    {
     "data": {
      "text/plain": [
       "   show_id     type                                title  \\\n",
       "0       s1    Movie                 Dick Johnson Is Dead   \n",
       "6       s7    Movie     My Little Pony: A New Generation   \n",
       "10     s11  TV Show  Vendetta: Truth, Lies and The Mafia   \n",
       "9      s10    Movie                         The Starling   \n",
       "8       s9  TV Show        The Great British Baking Show   \n",
       "7       s8    Movie                              Sankofa   \n",
       "1       s2  TV Show                        Blood & Water   \n",
       "5       s6  TV Show                        Midnight Mass   \n",
       "3       s4  TV Show                Jailbirds New Orleans   \n",
       "2       s3  TV Show                            Ganglands   \n",
       "\n",
       "                         director  \\\n",
       "0                 Kirsten Johnson   \n",
       "6   Robert Cullen, José Luis Ucha   \n",
       "10                            NaN   \n",
       "9                  Theodore Melfi   \n",
       "8                 Andy Devonshire   \n",
       "7                    Haile Gerima   \n",
       "1                             NaN   \n",
       "5                   Mike Flanagan   \n",
       "3                             NaN   \n",
       "2                 Julien Leclercq   \n",
       "\n",
       "                                                 cast  \\\n",
       "0                                                 NaN   \n",
       "6   Vanessa Hudgens, Kimiko Glenn, James Marsden, ...   \n",
       "10                                                NaN   \n",
       "9   Melissa McCarthy, Chris O'Dowd, Kevin Kline, T...   \n",
       "8   Mel Giedroyc, Sue Perkins, Mary Berry, Paul Ho...   \n",
       "7   Kofi Ghanaba, Oyafunmike Ogunlano, Alexandra D...   \n",
       "1   Ama Qamata, Khosi Ngema, Gail Mabalane, Thaban...   \n",
       "5   Kate Siegel, Zach Gilford, Hamish Linklater, H...   \n",
       "3                                                 NaN   \n",
       "2   Sami Bouajila, Tracy Gotoas, Samuel Jouy, Nabi...   \n",
       "\n",
       "                                              country date_added  \\\n",
       "0                                       United States 2021-09-25   \n",
       "6                                                 NaN 2021-09-24   \n",
       "10                                                NaN 2021-09-24   \n",
       "9                                       United States 2021-09-24   \n",
       "8                                      United Kingdom 2021-09-24   \n",
       "7   United States, Ghana, Burkina Faso, United Kin... 2021-09-24   \n",
       "1                                        South Africa 2021-09-24   \n",
       "5                                                 NaN 2021-09-24   \n",
       "3                                                 NaN 2021-09-24   \n",
       "2                                                 NaN 2021-09-24   \n",
       "\n",
       "    release_year rating   duration  \\\n",
       "0           2020  PG-13     90 min   \n",
       "6           2021     PG     91 min   \n",
       "10          2021  TV-MA   1 Season   \n",
       "9           2021  PG-13    104 min   \n",
       "8           2021  TV-14  9 Seasons   \n",
       "7           1993  TV-MA    125 min   \n",
       "1           2021  TV-MA  2 Seasons   \n",
       "5           2021  TV-MA   1 Season   \n",
       "3           2021  TV-MA   1 Season   \n",
       "2           2021  TV-MA   1 Season   \n",
       "\n",
       "                                            listed_in  \\\n",
       "0                                       Documentaries   \n",
       "6                            Children & Family Movies   \n",
       "10  Crime TV Shows, Docuseries, International TV S...   \n",
       "9                                    Comedies, Dramas   \n",
       "8                        British TV Shows, Reality TV   \n",
       "7    Dramas, Independent Movies, International Movies   \n",
       "1     International TV Shows, TV Dramas, TV Mysteries   \n",
       "5                  TV Dramas, TV Horror, TV Mysteries   \n",
       "3                              Docuseries, Reality TV   \n",
       "2   Crime TV Shows, International TV Shows, TV Act...   \n",
       "\n",
       "                                          description  \n",
       "0   As her father nears the end of his life, filmm...  \n",
       "6   Equestria's divided. But a bright-eyed hero be...  \n",
       "10  Sicily boasts a bold \"Anti-Mafia\" coalition. B...  \n",
       "9   A woman adjusting to life after a loss contend...  \n",
       "8   A talented batch of amateur bakers face off in...  \n",
       "7   On a photo shoot in Ghana, an American model s...  \n",
       "1   After crossing paths at a party, a Cape Town t...  \n",
       "5   The arrival of a charismatic young priest brin...  \n",
       "3   Feuds, flirtations and toilet talk go down amo...  \n",
       "2   To protect his family from a powerful drug lor...  "
      ],
      "text/html": [
       "<div>\n",
       "<style scoped>\n",
       "    .dataframe tbody tr th:only-of-type {\n",
       "        vertical-align: middle;\n",
       "    }\n",
       "\n",
       "    .dataframe tbody tr th {\n",
       "        vertical-align: top;\n",
       "    }\n",
       "\n",
       "    .dataframe thead th {\n",
       "        text-align: right;\n",
       "    }\n",
       "</style>\n",
       "<table border=\"1\" class=\"dataframe\">\n",
       "  <thead>\n",
       "    <tr style=\"text-align: right;\">\n",
       "      <th></th>\n",
       "      <th>show_id</th>\n",
       "      <th>type</th>\n",
       "      <th>title</th>\n",
       "      <th>director</th>\n",
       "      <th>cast</th>\n",
       "      <th>country</th>\n",
       "      <th>date_added</th>\n",
       "      <th>release_year</th>\n",
       "      <th>rating</th>\n",
       "      <th>duration</th>\n",
       "      <th>listed_in</th>\n",
       "      <th>description</th>\n",
       "    </tr>\n",
       "  </thead>\n",
       "  <tbody>\n",
       "    <tr>\n",
       "      <th>0</th>\n",
       "      <td>s1</td>\n",
       "      <td>Movie</td>\n",
       "      <td>Dick Johnson Is Dead</td>\n",
       "      <td>Kirsten Johnson</td>\n",
       "      <td>NaN</td>\n",
       "      <td>United States</td>\n",
       "      <td>2021-09-25</td>\n",
       "      <td>2020</td>\n",
       "      <td>PG-13</td>\n",
       "      <td>90 min</td>\n",
       "      <td>Documentaries</td>\n",
       "      <td>As her father nears the end of his life, filmm...</td>\n",
       "    </tr>\n",
       "    <tr>\n",
       "      <th>6</th>\n",
       "      <td>s7</td>\n",
       "      <td>Movie</td>\n",
       "      <td>My Little Pony: A New Generation</td>\n",
       "      <td>Robert Cullen, José Luis Ucha</td>\n",
       "      <td>Vanessa Hudgens, Kimiko Glenn, James Marsden, ...</td>\n",
       "      <td>NaN</td>\n",
       "      <td>2021-09-24</td>\n",
       "      <td>2021</td>\n",
       "      <td>PG</td>\n",
       "      <td>91 min</td>\n",
       "      <td>Children &amp; Family Movies</td>\n",
       "      <td>Equestria's divided. But a bright-eyed hero be...</td>\n",
       "    </tr>\n",
       "    <tr>\n",
       "      <th>10</th>\n",
       "      <td>s11</td>\n",
       "      <td>TV Show</td>\n",
       "      <td>Vendetta: Truth, Lies and The Mafia</td>\n",
       "      <td>NaN</td>\n",
       "      <td>NaN</td>\n",
       "      <td>NaN</td>\n",
       "      <td>2021-09-24</td>\n",
       "      <td>2021</td>\n",
       "      <td>TV-MA</td>\n",
       "      <td>1 Season</td>\n",
       "      <td>Crime TV Shows, Docuseries, International TV S...</td>\n",
       "      <td>Sicily boasts a bold \"Anti-Mafia\" coalition. B...</td>\n",
       "    </tr>\n",
       "    <tr>\n",
       "      <th>9</th>\n",
       "      <td>s10</td>\n",
       "      <td>Movie</td>\n",
       "      <td>The Starling</td>\n",
       "      <td>Theodore Melfi</td>\n",
       "      <td>Melissa McCarthy, Chris O'Dowd, Kevin Kline, T...</td>\n",
       "      <td>United States</td>\n",
       "      <td>2021-09-24</td>\n",
       "      <td>2021</td>\n",
       "      <td>PG-13</td>\n",
       "      <td>104 min</td>\n",
       "      <td>Comedies, Dramas</td>\n",
       "      <td>A woman adjusting to life after a loss contend...</td>\n",
       "    </tr>\n",
       "    <tr>\n",
       "      <th>8</th>\n",
       "      <td>s9</td>\n",
       "      <td>TV Show</td>\n",
       "      <td>The Great British Baking Show</td>\n",
       "      <td>Andy Devonshire</td>\n",
       "      <td>Mel Giedroyc, Sue Perkins, Mary Berry, Paul Ho...</td>\n",
       "      <td>United Kingdom</td>\n",
       "      <td>2021-09-24</td>\n",
       "      <td>2021</td>\n",
       "      <td>TV-14</td>\n",
       "      <td>9 Seasons</td>\n",
       "      <td>British TV Shows, Reality TV</td>\n",
       "      <td>A talented batch of amateur bakers face off in...</td>\n",
       "    </tr>\n",
       "    <tr>\n",
       "      <th>7</th>\n",
       "      <td>s8</td>\n",
       "      <td>Movie</td>\n",
       "      <td>Sankofa</td>\n",
       "      <td>Haile Gerima</td>\n",
       "      <td>Kofi Ghanaba, Oyafunmike Ogunlano, Alexandra D...</td>\n",
       "      <td>United States, Ghana, Burkina Faso, United Kin...</td>\n",
       "      <td>2021-09-24</td>\n",
       "      <td>1993</td>\n",
       "      <td>TV-MA</td>\n",
       "      <td>125 min</td>\n",
       "      <td>Dramas, Independent Movies, International Movies</td>\n",
       "      <td>On a photo shoot in Ghana, an American model s...</td>\n",
       "    </tr>\n",
       "    <tr>\n",
       "      <th>1</th>\n",
       "      <td>s2</td>\n",
       "      <td>TV Show</td>\n",
       "      <td>Blood &amp; Water</td>\n",
       "      <td>NaN</td>\n",
       "      <td>Ama Qamata, Khosi Ngema, Gail Mabalane, Thaban...</td>\n",
       "      <td>South Africa</td>\n",
       "      <td>2021-09-24</td>\n",
       "      <td>2021</td>\n",
       "      <td>TV-MA</td>\n",
       "      <td>2 Seasons</td>\n",
       "      <td>International TV Shows, TV Dramas, TV Mysteries</td>\n",
       "      <td>After crossing paths at a party, a Cape Town t...</td>\n",
       "    </tr>\n",
       "    <tr>\n",
       "      <th>5</th>\n",
       "      <td>s6</td>\n",
       "      <td>TV Show</td>\n",
       "      <td>Midnight Mass</td>\n",
       "      <td>Mike Flanagan</td>\n",
       "      <td>Kate Siegel, Zach Gilford, Hamish Linklater, H...</td>\n",
       "      <td>NaN</td>\n",
       "      <td>2021-09-24</td>\n",
       "      <td>2021</td>\n",
       "      <td>TV-MA</td>\n",
       "      <td>1 Season</td>\n",
       "      <td>TV Dramas, TV Horror, TV Mysteries</td>\n",
       "      <td>The arrival of a charismatic young priest brin...</td>\n",
       "    </tr>\n",
       "    <tr>\n",
       "      <th>3</th>\n",
       "      <td>s4</td>\n",
       "      <td>TV Show</td>\n",
       "      <td>Jailbirds New Orleans</td>\n",
       "      <td>NaN</td>\n",
       "      <td>NaN</td>\n",
       "      <td>NaN</td>\n",
       "      <td>2021-09-24</td>\n",
       "      <td>2021</td>\n",
       "      <td>TV-MA</td>\n",
       "      <td>1 Season</td>\n",
       "      <td>Docuseries, Reality TV</td>\n",
       "      <td>Feuds, flirtations and toilet talk go down amo...</td>\n",
       "    </tr>\n",
       "    <tr>\n",
       "      <th>2</th>\n",
       "      <td>s3</td>\n",
       "      <td>TV Show</td>\n",
       "      <td>Ganglands</td>\n",
       "      <td>Julien Leclercq</td>\n",
       "      <td>Sami Bouajila, Tracy Gotoas, Samuel Jouy, Nabi...</td>\n",
       "      <td>NaN</td>\n",
       "      <td>2021-09-24</td>\n",
       "      <td>2021</td>\n",
       "      <td>TV-MA</td>\n",
       "      <td>1 Season</td>\n",
       "      <td>Crime TV Shows, International TV Shows, TV Act...</td>\n",
       "      <td>To protect his family from a powerful drug lor...</td>\n",
       "    </tr>\n",
       "  </tbody>\n",
       "</table>\n",
       "</div>"
      ]
     },
     "execution_count": 9,
     "metadata": {},
     "output_type": "execute_result"
    }
   ],
   "execution_count": 9
  },
  {
   "metadata": {
    "ExecuteTime": {
     "end_time": "2025-07-30T14:04:11.447901Z",
     "start_time": "2025-07-30T14:04:11.444190Z"
    }
   },
   "cell_type": "code",
   "source": [
    "#Filling in missing values in 'cast and  'country' with 'unknown'\n",
    "df['cast'] = df['cast'].fillna('Unknown')\n",
    "df['country'] = df['country'].fillna('Unknown')"
   ],
   "id": "7ee3049629bb8b06",
   "outputs": [],
   "execution_count": 10
  },
  {
   "metadata": {
    "ExecuteTime": {
     "end_time": "2025-07-30T14:04:11.488252Z",
     "start_time": "2025-07-30T14:04:11.483853Z"
    }
   },
   "cell_type": "code",
   "source": [
    "#Checking if all missing values have been filled in 'cast' and 'country'\n",
    "df[['cast', 'country']].isna().sum()"
   ],
   "id": "e260a3becbb7ad1e",
   "outputs": [
    {
     "data": {
      "text/plain": [
       "cast       0\n",
       "country    0\n",
       "dtype: int64"
      ]
     },
     "execution_count": 11,
     "metadata": {},
     "output_type": "execute_result"
    }
   ],
   "execution_count": 11
  },
  {
   "metadata": {
    "ExecuteTime": {
     "end_time": "2025-07-30T14:04:11.562228Z",
     "start_time": "2025-07-30T14:04:11.557985Z"
    }
   },
   "cell_type": "code",
   "source": [
    "#Retrieves the top 10 countries with the most Netflix content\n",
    "df['country'].value_counts().head(10)"
   ],
   "id": "4ad72a24ace3a25a",
   "outputs": [
    {
     "data": {
      "text/plain": [
       "country\n",
       "United States     2778\n",
       "India              971\n",
       "Unknown            827\n",
       "United Kingdom     403\n",
       "Japan              241\n",
       "South Korea        195\n",
       "Canada             173\n",
       "Spain              141\n",
       "France             122\n",
       "Mexico             110\n",
       "Name: count, dtype: int64"
      ]
     },
     "execution_count": 12,
     "metadata": {},
     "output_type": "execute_result"
    }
   ],
   "execution_count": 12
  },
  {
   "metadata": {
    "ExecuteTime": {
     "end_time": "2025-07-30T14:04:13.365478Z",
     "start_time": "2025-07-30T14:04:11.636683Z"
    }
   },
   "cell_type": "code",
   "source": [
    "#A visual for the prior mentioned output using Matplotlib\n",
    "\n",
    "import matplotlib.pyplot as plt\n",
    "\n",
    "top_countries = df['country'].value_counts().head(10)"
   ],
   "id": "d47657a5b3e28d26",
   "outputs": [],
   "execution_count": 13
  },
  {
   "metadata": {
    "ExecuteTime": {
     "end_time": "2025-07-30T15:38:42.878859Z",
     "start_time": "2025-07-30T15:38:42.664586Z"
    }
   },
   "cell_type": "code",
   "source": [
    "plt.figure(figsize=(10,6))\n",
    "top_countries.plot(kind='barh', color = 'skyblue')\n",
    "plt.xlabel('Number of Titles')\n",
    "plt.ylabel('Country')\n",
    "plt.title('Top 10 Countries with the Most Netflix Content')\n",
    "plt.gca().invert_yaxis() #This allows the US to be on the top\n",
    "plt.grid(axis='x', linestyle='--', alpha=0.7)\n",
    "plt.tight_layout()\n",
    "plt.savefig('../images/top_countries_bar_chart.png', bbox_inches='tight', dpi=300) #Save the chart\n",
    "plt.show()"
   ],
   "id": "936d0787a9bfcf9f",
   "outputs": [
    {
     "data": {
      "text/plain": [
       "<Figure size 1000x600 with 1 Axes>"
      ],
      "image/png": "[encoded data removed]"
     },
     "metadata": {},
     "output_type": "display_data"
    }
   ],
   "execution_count": 22
  },
  {
   "metadata": {
    "ExecuteTime": {
     "end_time": "2025-07-30T14:04:13.820193Z",
     "start_time": "2025-07-30T14:04:13.816692Z"
    }
   },
   "cell_type": "code",
   "source": [
    "#Counting the different content types\n",
    "df['type'].value_counts()"
   ],
   "id": "459310a1df442c7",
   "outputs": [
    {
     "data": {
      "text/plain": [
       "type\n",
       "Movie      6131\n",
       "TV Show    2578\n",
       "Name: count, dtype: int64"
      ]
     },
     "execution_count": 15,
     "metadata": {},
     "output_type": "execute_result"
    }
   ],
   "execution_count": 15
  },
  {
   "metadata": {
    "ExecuteTime": {
     "end_time": "2025-07-30T14:04:13.917026Z",
     "start_time": "2025-07-30T14:04:13.860285Z"
    }
   },
   "cell_type": "code",
   "source": [
    "#Bar chart displaying content count\n",
    "df['type'].value_counts().plot(kind='bar', color=['red', 'purple'])\n",
    "\n",
    "plt.title('Distribution of Content Types on Netflix')\n",
    "plt.xlabel('Type')\n",
    "plt.ylabel('Count')\n",
    "plt.xticks(rotation=0)\n",
    "plt.tight_layout()\n",
    "plt.show()"
   ],
   "id": "9b5b2f268035ec84",
   "outputs": [
    {
     "data": {
      "text/plain": [
       "<Figure size 640x480 with 1 Axes>"
      ],
      "image/png": "[encoded data removed]"
     },
     "metadata": {},
     "output_type": "display_data"
    }
   ],
   "execution_count": 16
  },
  {
   "metadata": {
    "ExecuteTime": {
     "end_time": "2025-07-30T14:53:54.479353Z",
     "start_time": "2025-07-30T14:53:54.471011Z"
    }
   },
   "cell_type": "code",
   "source": [
    "#Splitting the genre values\n",
    "all_genres = df['listed_in'].dropna().str.split(', ')\n",
    "\n",
    "#Flattening the list\n",
    "flat_genres = [genre for sublist in all_genres for genre in sublist]\n",
    "\n",
    "print(flat_genres[:10])"
   ],
   "id": "79c281deb1043737",
   "outputs": [
    {
     "name": "stdout",
     "output_type": "stream",
     "text": [
      "['Documentaries', 'International TV Shows', 'TV Dramas', 'TV Mysteries', 'Crime TV Shows', 'International TV Shows', 'TV Action & Adventure', 'Docuseries', 'Reality TV', 'International TV Shows']\n"
     ]
    }
   ],
   "execution_count": 18
  },
  {
   "metadata": {
    "ExecuteTime": {
     "end_time": "2025-07-30T15:27:34.959805Z",
     "start_time": "2025-07-30T15:27:34.953702Z"
    }
   },
   "cell_type": "code",
   "source": [
    "#Counting the genre frequency\n",
    "genre_counts = pd.Series(flat_genres).value_counts()\n",
    "\n",
    "print(genre_counts.head(10))"
   ],
   "id": "d3033c591bbd86fb",
   "outputs": [
    {
     "name": "stdout",
     "output_type": "stream",
     "text": [
      "International Movies        2752\n",
      "Dramas                      2427\n",
      "Comedies                    1674\n",
      "International TV Shows      1328\n",
      "Documentaries                869\n",
      "Action & Adventure           859\n",
      "Independent Movies           756\n",
      "TV Dramas                    739\n",
      "Children & Family Movies     641\n",
      "Romantic Movies              616\n",
      "Name: count, dtype: int64\n"
     ]
    }
   ],
   "execution_count": 19
  },
  {
   "metadata": {
    "ExecuteTime": {
     "end_time": "2025-07-30T15:38:55.479552Z",
     "start_time": "2025-07-30T15:38:55.279586Z"
    }
   },
   "cell_type": "code",
   "source": [
    "#Placing top 10 genres in a bar chart\n",
    "top_10_genres = genre_counts.head(10)\n",
    "\n",
    "plt.figure(figsize=(10,6))\n",
    "top_10_genres.plot(kind='barh')\n",
    "plt.xlabel('Number of Titles')\n",
    "plt.ylabel('Genre')\n",
    "plt.title('Top 10 Netflix Genres')\n",
    "plt.gca().invert_yaxis()\n",
    "plt.tight_layout()\n",
    "plt.savefig('../images/top_genres_bar_chart.png', bbox_inches='tight', dpi=300)\n",
    "plt.show()"
   ],
   "id": "e4e8ce2d43aad3f6",
   "outputs": [
    {
     "data": {
      "text/plain": [
       "<Figure size 1000x600 with 1 Axes>"
      ],
      "image/png": "[encoded data removed]"
     },
     "metadata": {},
     "output_type": "display_data"
    }
   ],
   "execution_count": 23
  },
  {
   "metadata": {},
   "cell_type": "code",
   "outputs": [],
   "execution_count": null,
   "source": "",
   "id": "661f1d934affac2c"
  }
 ],
 "metadata": {
  "kernelspec": {
   "display_name": "Python 3",
   "language": "python",
   "name": "python3"
  },
  "language_info": {
   "codemirror_mode": {
    "name": "ipython",
    "version": 2
   },
   "file_extension": ".py",
   "mimetype": "text/x-python",
   "name": "python",
   "nbconvert_exporter": "python",
   "pygments_lexer": "ipython2",
   "version": "2.7.6"
  }
 },
 "nbformat": 4,
 "nbformat_minor": 5
}
